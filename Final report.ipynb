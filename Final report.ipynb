{
 "cells": [
  {
   "cell_type": "markdown",
   "metadata": {
    "id": "ovDsjtRL_qNK"
   },
   "source": [
    "##Names of Collaborators\n",
    "\n",
    "Inchara Sathyanarayan - Inchara.Sathyanarayan@colorado.edu\n",
    "\n",
    "Sai Rohitha Challa - Sai.Challa@colorado.edu\n",
    "\n",
    "Samiksha Gopinath - Samiksha.Gopinath@coloradu.edu\n",
    "\n",
    "Prerana Hadadi - Prerana.Hadadi@colorado.edu\n",
    "\n",
    "Yan Xia - Yan.Xia@colorado.edu"
   ]
  },
  {
   "cell_type": "markdown",
   "metadata": {
    "id": "mOehK2zw_z7E"
   },
   "source": [
    "##Statement of question of interest\n",
    "What is the chance that a patient who suffers with hepatitis, and had prominent medical conditions like ascites, palpable spleen would live?"
   ]
  },
  {
   "cell_type": "markdown",
   "metadata": {
    "id": "OISskP23AAiC"
   },
   "source": [
    "##Source and Description of Data\n",
    "\n",
    "Source : https://archive.ics.uci.edu/dataset/46/hepatitis\n",
    "\n",
    "\n",
    "Short description: The data used in this analysis contains about information regarding people who were diagnosed with Hepatitis, their symptoms like anoerxia, other medical conditions they suffered like ascites, varices. It also includes the mortality rate of 155 people with hepatitis.\n",
    "\n",
    "\n",
    "####Description of dataset values:\n",
    "\n",
    "     1. Class: 1 - death, 2 - alive\n",
    "     2. Age: 10, 20, 30, 40, 50, 60, 70, 80\n",
    "     3. Gender: 1 - male, 2 - female\n",
    "     4. Steroids: 1 - no, 2 - yes\n",
    "     5. Antivirals: 1 - no, 2 - yes\n",
    "     6. Fatigue: 1 - no, 2 - yes\n",
    "     7. Malaise: 1 - no, 2 - yes\n",
    "     8. Anorexia: 1 - no, 2 - yes\n",
    "     9. Bulged Liver: 1 - no, 2 - yes\n",
    "    10. Firm Liver: 1 - no, 2 - yes\n",
    "    11. Palpable Spleen: 1 - no, 2 - yes\n",
    "    12. Spiders: 1 - no, 2 - yes\n",
    "    13. Ascites: 1 - no, 2 - yes\n",
    "    14. Varices: 1 - no, 2 - yes\n",
    "    15. Bilirubin: levels - 0.39, 0.80, 1.20, 2.00, 3.00, 4.00\n",
    "    16. Alkaline Phosphate: levels - 33, 80, 120, 160, 200, 250\n",
    "    17. SGOT: levels - 13, 100, 200, 300, 400, 500,\n",
    "    18. Albumin: levels - 2.1, 3.0, 3.8, 4.5, 5.0, 6.0\n",
    "    19. Protime: levels - 10, 20, 30, 40, 50, 60, 70, 80, 90\n",
    "    20. Histology: no, yes\n",
    "\n"
   ]
  },
  {
   "cell_type": "markdown",
   "metadata": {
    "id": "5Bzeauh2ViZk"
   },
   "source": [
    "##Data Cleaning"
   ]
  },
  {
   "cell_type": "code",
   "execution_count": null,
   "metadata": {
    "id": "IkWb61iSHvpw"
   },
   "outputs": [],
   "source": [
    "#importing necessary libraries\n",
    "import pandas as pd\n",
    "import numpy as np\n",
    "import matplotlib.pyplot as plt\n",
    "import seaborn as sns"
   ]
  },
  {
   "cell_type": "code",
   "execution_count": null,
   "metadata": {
    "id": "QN-alMOVHxv4"
   },
   "outputs": [],
   "source": [
    "#loading our data set\n",
    "df=pd.read_csv(\"/content/hepatitis.data\")"
   ]
  },
  {
   "cell_type": "code",
   "execution_count": null,
   "metadata": {
    "id": "nT1nsgBVH8px"
   },
   "outputs": [],
   "source": [
    "column_names=[\"Class\",\"Age Group\",\"Gender\",\"Steroids\",\"Antiviral\",\"Fatigue\",\"Malaise\",\"Anorexia\",\"Bulged liver\",\"Firm liver\",\"Palpable spleen\",\"Spiders\",\"Ascitis\",\"Varices\",\"Bilirubin\",\"Alkaline Phosphate\",\"SGOT\",\"Albumin\",\"Protime\",\"Histology\"]"
   ]
  },
  {
   "cell_type": "code",
   "execution_count": null,
   "metadata": {
    "id": "_SXHSRW8OeGB"
   },
   "outputs": [],
   "source": [
    "#updating the column names\n",
    "df=pd.read_csv(\"/content/hepatitis.data\",names=column_names)"
   ]
  },
  {
   "cell_type": "code",
   "execution_count": null,
   "metadata": {
    "colab": {
     "base_uri": "https://localhost:8080/",
     "height": 241
    },
    "id": "Y3JcL_NSOk4Z",
    "outputId": "a14ce3cc-eb28-42f7-b094-a7292e155483"
   },
   "outputs": [
    {
     "data": {
      "text/html": [
       "\n",
       "  <div id=\"df-88b081f5-6aad-40a1-8cd6-7306cb1c762b\" class=\"colab-df-container\">\n",
       "    <div>\n",
       "<style scoped>\n",
       "    .dataframe tbody tr th:only-of-type {\n",
       "        vertical-align: middle;\n",
       "    }\n",
       "\n",
       "    .dataframe tbody tr th {\n",
       "        vertical-align: top;\n",
       "    }\n",
       "\n",
       "    .dataframe thead th {\n",
       "        text-align: right;\n",
       "    }\n",
       "</style>\n",
       "<table border=\"1\" class=\"dataframe\">\n",
       "  <thead>\n",
       "    <tr style=\"text-align: right;\">\n",
       "      <th></th>\n",
       "      <th>Class</th>\n",
       "      <th>Age Group</th>\n",
       "      <th>Gender</th>\n",
       "      <th>Steroids</th>\n",
       "      <th>Antiviral</th>\n",
       "      <th>Fatigue</th>\n",
       "      <th>Malaise</th>\n",
       "      <th>Anorexia</th>\n",
       "      <th>Bulged liver</th>\n",
       "      <th>Firm liver</th>\n",
       "      <th>Palpable spleen</th>\n",
       "      <th>Spiders</th>\n",
       "      <th>Ascitis</th>\n",
       "      <th>Varices</th>\n",
       "      <th>Bilirubin</th>\n",
       "      <th>Alkaline Phosphate</th>\n",
       "      <th>SGOT</th>\n",
       "      <th>Albumin</th>\n",
       "      <th>Protime</th>\n",
       "      <th>Histology</th>\n",
       "    </tr>\n",
       "  </thead>\n",
       "  <tbody>\n",
       "    <tr>\n",
       "      <th>0</th>\n",
       "      <td>2</td>\n",
       "      <td>30</td>\n",
       "      <td>2</td>\n",
       "      <td>1</td>\n",
       "      <td>2</td>\n",
       "      <td>2</td>\n",
       "      <td>2</td>\n",
       "      <td>2</td>\n",
       "      <td>1</td>\n",
       "      <td>2</td>\n",
       "      <td>2</td>\n",
       "      <td>2</td>\n",
       "      <td>2</td>\n",
       "      <td>2</td>\n",
       "      <td>1.00</td>\n",
       "      <td>85</td>\n",
       "      <td>18</td>\n",
       "      <td>4.0</td>\n",
       "      <td>?</td>\n",
       "      <td>1</td>\n",
       "    </tr>\n",
       "    <tr>\n",
       "      <th>1</th>\n",
       "      <td>2</td>\n",
       "      <td>50</td>\n",
       "      <td>1</td>\n",
       "      <td>1</td>\n",
       "      <td>2</td>\n",
       "      <td>1</td>\n",
       "      <td>2</td>\n",
       "      <td>2</td>\n",
       "      <td>1</td>\n",
       "      <td>2</td>\n",
       "      <td>2</td>\n",
       "      <td>2</td>\n",
       "      <td>2</td>\n",
       "      <td>2</td>\n",
       "      <td>0.90</td>\n",
       "      <td>135</td>\n",
       "      <td>42</td>\n",
       "      <td>3.5</td>\n",
       "      <td>?</td>\n",
       "      <td>1</td>\n",
       "    </tr>\n",
       "    <tr>\n",
       "      <th>2</th>\n",
       "      <td>2</td>\n",
       "      <td>78</td>\n",
       "      <td>1</td>\n",
       "      <td>2</td>\n",
       "      <td>2</td>\n",
       "      <td>1</td>\n",
       "      <td>2</td>\n",
       "      <td>2</td>\n",
       "      <td>2</td>\n",
       "      <td>2</td>\n",
       "      <td>2</td>\n",
       "      <td>2</td>\n",
       "      <td>2</td>\n",
       "      <td>2</td>\n",
       "      <td>0.70</td>\n",
       "      <td>96</td>\n",
       "      <td>32</td>\n",
       "      <td>4.0</td>\n",
       "      <td>?</td>\n",
       "      <td>1</td>\n",
       "    </tr>\n",
       "    <tr>\n",
       "      <th>3</th>\n",
       "      <td>2</td>\n",
       "      <td>31</td>\n",
       "      <td>1</td>\n",
       "      <td>?</td>\n",
       "      <td>1</td>\n",
       "      <td>2</td>\n",
       "      <td>2</td>\n",
       "      <td>2</td>\n",
       "      <td>2</td>\n",
       "      <td>2</td>\n",
       "      <td>2</td>\n",
       "      <td>2</td>\n",
       "      <td>2</td>\n",
       "      <td>2</td>\n",
       "      <td>0.70</td>\n",
       "      <td>46</td>\n",
       "      <td>52</td>\n",
       "      <td>4.0</td>\n",
       "      <td>80</td>\n",
       "      <td>1</td>\n",
       "    </tr>\n",
       "    <tr>\n",
       "      <th>4</th>\n",
       "      <td>2</td>\n",
       "      <td>34</td>\n",
       "      <td>1</td>\n",
       "      <td>2</td>\n",
       "      <td>2</td>\n",
       "      <td>2</td>\n",
       "      <td>2</td>\n",
       "      <td>2</td>\n",
       "      <td>2</td>\n",
       "      <td>2</td>\n",
       "      <td>2</td>\n",
       "      <td>2</td>\n",
       "      <td>2</td>\n",
       "      <td>2</td>\n",
       "      <td>1.00</td>\n",
       "      <td>?</td>\n",
       "      <td>200</td>\n",
       "      <td>4.0</td>\n",
       "      <td>?</td>\n",
       "      <td>1</td>\n",
       "    </tr>\n",
       "  </tbody>\n",
       "</table>\n",
       "</div>\n",
       "    <div class=\"colab-df-buttons\">\n",
       "\n",
       "  <div class=\"colab-df-container\">\n",
       "    <button class=\"colab-df-convert\" onclick=\"convertToInteractive('df-88b081f5-6aad-40a1-8cd6-7306cb1c762b')\"\n",
       "            title=\"Convert this dataframe to an interactive table.\"\n",
       "            style=\"display:none;\">\n",
       "\n",
       "  <svg xmlns=\"http://www.w3.org/2000/svg\" height=\"24px\" viewBox=\"0 -960 960 960\">\n",
       "    <path d=\"M120-120v-720h720v720H120Zm60-500h600v-160H180v160Zm220 220h160v-160H400v160Zm0 220h160v-160H400v160ZM180-400h160v-160H180v160Zm440 0h160v-160H620v160ZM180-180h160v-160H180v160Zm440 0h160v-160H620v160Z\"/>\n",
       "  </svg>\n",
       "    </button>\n",
       "\n",
       "  <style>\n",
       "    .colab-df-container {\n",
       "      display:flex;\n",
       "      gap: 12px;\n",
       "    }\n",
       "\n",
       "    .colab-df-convert {\n",
       "      background-color: #E8F0FE;\n",
       "      border: none;\n",
       "      border-radius: 50%;\n",
       "      cursor: pointer;\n",
       "      display: none;\n",
       "      fill: #1967D2;\n",
       "      height: 32px;\n",
       "      padding: 0 0 0 0;\n",
       "      width: 32px;\n",
       "    }\n",
       "\n",
       "    .colab-df-convert:hover {\n",
       "      background-color: #E2EBFA;\n",
       "      box-shadow: 0px 1px 2px rgba(60, 64, 67, 0.3), 0px 1px 3px 1px rgba(60, 64, 67, 0.15);\n",
       "      fill: #174EA6;\n",
       "    }\n",
       "\n",
       "    .colab-df-buttons div {\n",
       "      margin-bottom: 4px;\n",
       "    }\n",
       "\n",
       "    [theme=dark] .colab-df-convert {\n",
       "      background-color: #3B4455;\n",
       "      fill: #D2E3FC;\n",
       "    }\n",
       "\n",
       "    [theme=dark] .colab-df-convert:hover {\n",
       "      background-color: #434B5C;\n",
       "      box-shadow: 0px 1px 3px 1px rgba(0, 0, 0, 0.15);\n",
       "      filter: drop-shadow(0px 1px 2px rgba(0, 0, 0, 0.3));\n",
       "      fill: #FFFFFF;\n",
       "    }\n",
       "  </style>\n",
       "\n",
       "    <script>\n",
       "      const buttonEl =\n",
       "        document.querySelector('#df-88b081f5-6aad-40a1-8cd6-7306cb1c762b button.colab-df-convert');\n",
       "      buttonEl.style.display =\n",
       "        google.colab.kernel.accessAllowed ? 'block' : 'none';\n",
       "\n",
       "      async function convertToInteractive(key) {\n",
       "        const element = document.querySelector('#df-88b081f5-6aad-40a1-8cd6-7306cb1c762b');\n",
       "        const dataTable =\n",
       "          await google.colab.kernel.invokeFunction('convertToInteractive',\n",
       "                                                    [key], {});\n",
       "        if (!dataTable) return;\n",
       "\n",
       "        const docLinkHtml = 'Like what you see? Visit the ' +\n",
       "          '<a target=\"_blank\" href=https://colab.research.google.com/notebooks/data_table.ipynb>data table notebook</a>'\n",
       "          + ' to learn more about interactive tables.';\n",
       "        element.innerHTML = '';\n",
       "        dataTable['output_type'] = 'display_data';\n",
       "        await google.colab.output.renderOutput(dataTable, element);\n",
       "        const docLink = document.createElement('div');\n",
       "        docLink.innerHTML = docLinkHtml;\n",
       "        element.appendChild(docLink);\n",
       "      }\n",
       "    </script>\n",
       "  </div>\n",
       "\n",
       "\n",
       "<div id=\"df-9fa1db9c-3611-4eb7-bda3-bc4c64a4e0ac\">\n",
       "  <button class=\"colab-df-quickchart\" onclick=\"quickchart('df-9fa1db9c-3611-4eb7-bda3-bc4c64a4e0ac')\"\n",
       "            title=\"Suggest charts.\"\n",
       "            style=\"display:none;\">\n",
       "\n",
       "<svg xmlns=\"http://www.w3.org/2000/svg\" height=\"24px\"viewBox=\"0 0 24 24\"\n",
       "     width=\"24px\">\n",
       "    <g>\n",
       "        <path d=\"M19 3H5c-1.1 0-2 .9-2 2v14c0 1.1.9 2 2 2h14c1.1 0 2-.9 2-2V5c0-1.1-.9-2-2-2zM9 17H7v-7h2v7zm4 0h-2V7h2v10zm4 0h-2v-4h2v4z\"/>\n",
       "    </g>\n",
       "</svg>\n",
       "  </button>\n",
       "\n",
       "<style>\n",
       "  .colab-df-quickchart {\n",
       "      --bg-color: #E8F0FE;\n",
       "      --fill-color: #1967D2;\n",
       "      --hover-bg-color: #E2EBFA;\n",
       "      --hover-fill-color: #174EA6;\n",
       "      --disabled-fill-color: #AAA;\n",
       "      --disabled-bg-color: #DDD;\n",
       "  }\n",
       "\n",
       "  [theme=dark] .colab-df-quickchart {\n",
       "      --bg-color: #3B4455;\n",
       "      --fill-color: #D2E3FC;\n",
       "      --hover-bg-color: #434B5C;\n",
       "      --hover-fill-color: #FFFFFF;\n",
       "      --disabled-bg-color: #3B4455;\n",
       "      --disabled-fill-color: #666;\n",
       "  }\n",
       "\n",
       "  .colab-df-quickchart {\n",
       "    background-color: var(--bg-color);\n",
       "    border: none;\n",
       "    border-radius: 50%;\n",
       "    cursor: pointer;\n",
       "    display: none;\n",
       "    fill: var(--fill-color);\n",
       "    height: 32px;\n",
       "    padding: 0;\n",
       "    width: 32px;\n",
       "  }\n",
       "\n",
       "  .colab-df-quickchart:hover {\n",
       "    background-color: var(--hover-bg-color);\n",
       "    box-shadow: 0 1px 2px rgba(60, 64, 67, 0.3), 0 1px 3px 1px rgba(60, 64, 67, 0.15);\n",
       "    fill: var(--button-hover-fill-color);\n",
       "  }\n",
       "\n",
       "  .colab-df-quickchart-complete:disabled,\n",
       "  .colab-df-quickchart-complete:disabled:hover {\n",
       "    background-color: var(--disabled-bg-color);\n",
       "    fill: var(--disabled-fill-color);\n",
       "    box-shadow: none;\n",
       "  }\n",
       "\n",
       "  .colab-df-spinner {\n",
       "    border: 2px solid var(--fill-color);\n",
       "    border-color: transparent;\n",
       "    border-bottom-color: var(--fill-color);\n",
       "    animation:\n",
       "      spin 1s steps(1) infinite;\n",
       "  }\n",
       "\n",
       "  @keyframes spin {\n",
       "    0% {\n",
       "      border-color: transparent;\n",
       "      border-bottom-color: var(--fill-color);\n",
       "      border-left-color: var(--fill-color);\n",
       "    }\n",
       "    20% {\n",
       "      border-color: transparent;\n",
       "      border-left-color: var(--fill-color);\n",
       "      border-top-color: var(--fill-color);\n",
       "    }\n",
       "    30% {\n",
       "      border-color: transparent;\n",
       "      border-left-color: var(--fill-color);\n",
       "      border-top-color: var(--fill-color);\n",
       "      border-right-color: var(--fill-color);\n",
       "    }\n",
       "    40% {\n",
       "      border-color: transparent;\n",
       "      border-right-color: var(--fill-color);\n",
       "      border-top-color: var(--fill-color);\n",
       "    }\n",
       "    60% {\n",
       "      border-color: transparent;\n",
       "      border-right-color: var(--fill-color);\n",
       "    }\n",
       "    80% {\n",
       "      border-color: transparent;\n",
       "      border-right-color: var(--fill-color);\n",
       "      border-bottom-color: var(--fill-color);\n",
       "    }\n",
       "    90% {\n",
       "      border-color: transparent;\n",
       "      border-bottom-color: var(--fill-color);\n",
       "    }\n",
       "  }\n",
       "</style>\n",
       "\n",
       "  <script>\n",
       "    async function quickchart(key) {\n",
       "      const quickchartButtonEl =\n",
       "        document.querySelector('#' + key + ' button');\n",
       "      quickchartButtonEl.disabled = true;  // To prevent multiple clicks.\n",
       "      quickchartButtonEl.classList.add('colab-df-spinner');\n",
       "      try {\n",
       "        const charts = await google.colab.kernel.invokeFunction(\n",
       "            'suggestCharts', [key], {});\n",
       "      } catch (error) {\n",
       "        console.error('Error during call to suggestCharts:', error);\n",
       "      }\n",
       "      quickchartButtonEl.classList.remove('colab-df-spinner');\n",
       "      quickchartButtonEl.classList.add('colab-df-quickchart-complete');\n",
       "    }\n",
       "    (() => {\n",
       "      let quickchartButtonEl =\n",
       "        document.querySelector('#df-9fa1db9c-3611-4eb7-bda3-bc4c64a4e0ac button');\n",
       "      quickchartButtonEl.style.display =\n",
       "        google.colab.kernel.accessAllowed ? 'block' : 'none';\n",
       "    })();\n",
       "  </script>\n",
       "</div>\n",
       "    </div>\n",
       "  </div>\n"
      ],
      "text/plain": [
       "   Class  Age Group  Gender Steroids  Antiviral Fatigue Malaise Anorexia  \\\n",
       "0      2         30       2        1          2       2       2        2   \n",
       "1      2         50       1        1          2       1       2        2   \n",
       "2      2         78       1        2          2       1       2        2   \n",
       "3      2         31       1        ?          1       2       2        2   \n",
       "4      2         34       1        2          2       2       2        2   \n",
       "\n",
       "  Bulged liver Firm liver Palpable spleen Spiders Ascitis Varices Bilirubin  \\\n",
       "0            1          2               2       2       2       2      1.00   \n",
       "1            1          2               2       2       2       2      0.90   \n",
       "2            2          2               2       2       2       2      0.70   \n",
       "3            2          2               2       2       2       2      0.70   \n",
       "4            2          2               2       2       2       2      1.00   \n",
       "\n",
       "  Alkaline Phosphate SGOT Albumin Protime  Histology  \n",
       "0                 85   18     4.0       ?          1  \n",
       "1                135   42     3.5       ?          1  \n",
       "2                 96   32     4.0       ?          1  \n",
       "3                 46   52     4.0      80          1  \n",
       "4                  ?  200     4.0       ?          1  "
      ]
     },
     "execution_count": 88,
     "metadata": {},
     "output_type": "execute_result"
    }
   ],
   "source": [
    "#displaying first five rows of the dataset\n",
    "df.head()"
   ]
  },
  {
   "cell_type": "code",
   "execution_count": null,
   "metadata": {
    "id": "EbQw5bSqOtY8"
   },
   "outputs": [],
   "source": [
    "#cleaning the data\n",
    "df= df.replace(\"?\",0)"
   ]
  },
  {
   "cell_type": "code",
   "execution_count": null,
   "metadata": {
    "colab": {
     "base_uri": "https://localhost:8080/"
    },
    "id": "v2b2o8HhPz1m",
    "outputId": "9e36ab1d-21a7-4387-b18e-7c919fc0de0b"
   },
   "outputs": [
    {
     "data": {
      "text/plain": [
       "Class                  int64\n",
       "Age Group              int64\n",
       "Gender                 int64\n",
       "Steroids              object\n",
       "Antiviral              int64\n",
       "Fatigue               object\n",
       "Malaise               object\n",
       "Anorexia              object\n",
       "Bulged liver          object\n",
       "Firm liver            object\n",
       "Palpable spleen       object\n",
       "Spiders               object\n",
       "Ascitis               object\n",
       "Varices               object\n",
       "Bilirubin             object\n",
       "Alkaline Phosphate    object\n",
       "SGOT                  object\n",
       "Albumin               object\n",
       "Protime               object\n",
       "Histology              int64\n",
       "dtype: object"
      ]
     },
     "execution_count": 90,
     "metadata": {},
     "output_type": "execute_result"
    }
   ],
   "source": [
    "df.dtypes"
   ]
  },
  {
   "cell_type": "code",
   "execution_count": null,
   "metadata": {
    "colab": {
     "base_uri": "https://localhost:8080/"
    },
    "id": "HENLuj7ZQCoG",
    "outputId": "befdbb5b-91bc-4bff-915c-f9029b209141"
   },
   "outputs": [
    {
     "data": {
      "text/plain": [
       "Index(['Steroids', 'Fatigue', 'Malaise', 'Anorexia', 'Bulged liver',\n",
       "       'Firm liver', 'Palpable spleen', 'Spiders', 'Ascitis', 'Varices',\n",
       "       'Bilirubin', 'Alkaline Phosphate', 'SGOT', 'Albumin', 'Protime'],\n",
       "      dtype='object')"
      ]
     },
     "execution_count": 91,
     "metadata": {},
     "output_type": "execute_result"
    }
   ],
   "source": [
    "#checking the columns with object as datatype\n",
    "df.columns[df.dtypes == 'object']"
   ]
  },
  {
   "cell_type": "markdown",
   "metadata": {
    "id": "VEDD0KY-UuVx"
   },
   "source": [
    "##Data Manipulation"
   ]
  },
  {
   "cell_type": "code",
   "execution_count": null,
   "metadata": {
    "id": "HrDgysKuRYcj"
   },
   "outputs": [],
   "source": [
    "#converting from object to int datatype\n",
    "df[['Steroids', 'Fatigue', 'Malaise', 'Anorexia', 'Bulged liver',\n",
    "       'Firm liver', 'Palpable spleen', 'Spiders', 'Ascitis', 'Varices',\n",
    "        'Alkaline Phosphate', 'SGOT', 'Protime']]=df[['Steroids', 'Fatigue', 'Malaise', 'Anorexia', 'Bulged liver',\n",
    "       'Firm liver', 'Palpable spleen', 'Spiders', 'Ascitis', 'Varices', 'Alkaline Phosphate', 'SGOT', 'Protime']].astype(int)"
   ]
  },
  {
   "cell_type": "code",
   "execution_count": null,
   "metadata": {
    "colab": {
     "base_uri": "https://localhost:8080/"
    },
    "id": "Mrm0zhzxRj1y",
    "outputId": "57976481-0316-4d30-84c0-6d24c4d532cd"
   },
   "outputs": [
    {
     "data": {
      "text/plain": [
       "Class                  int64\n",
       "Age Group              int64\n",
       "Gender                 int64\n",
       "Steroids               int64\n",
       "Antiviral              int64\n",
       "Fatigue                int64\n",
       "Malaise                int64\n",
       "Anorexia               int64\n",
       "Bulged liver           int64\n",
       "Firm liver             int64\n",
       "Palpable spleen        int64\n",
       "Spiders                int64\n",
       "Ascitis                int64\n",
       "Varices                int64\n",
       "Bilirubin             object\n",
       "Alkaline Phosphate     int64\n",
       "SGOT                   int64\n",
       "Albumin               object\n",
       "Protime                int64\n",
       "Histology              int64\n",
       "dtype: object"
      ]
     },
     "execution_count": 93,
     "metadata": {},
     "output_type": "execute_result"
    }
   ],
   "source": [
    "df.dtypes"
   ]
  },
  {
   "cell_type": "code",
   "execution_count": null,
   "metadata": {
    "id": "2qcxkLkBST8W"
   },
   "outputs": [],
   "source": [
    "#converting from object to float datatype\n",
    "df[['Bilirubin','Albumin']] = df[['Bilirubin','Albumin']].astype(float)"
   ]
  },
  {
   "cell_type": "code",
   "execution_count": null,
   "metadata": {
    "colab": {
     "base_uri": "https://localhost:8080/"
    },
    "id": "LKw_NEVjSbGd",
    "outputId": "b540cd13-c2cf-4a00-a023-0598cf2b1c96"
   },
   "outputs": [
    {
     "data": {
      "text/plain": [
       "Class                   int64\n",
       "Age Group               int64\n",
       "Gender                  int64\n",
       "Steroids                int64\n",
       "Antiviral               int64\n",
       "Fatigue                 int64\n",
       "Malaise                 int64\n",
       "Anorexia                int64\n",
       "Bulged liver            int64\n",
       "Firm liver              int64\n",
       "Palpable spleen         int64\n",
       "Spiders                 int64\n",
       "Ascitis                 int64\n",
       "Varices                 int64\n",
       "Bilirubin             float64\n",
       "Alkaline Phosphate      int64\n",
       "SGOT                    int64\n",
       "Albumin               float64\n",
       "Protime                 int64\n",
       "Histology               int64\n",
       "dtype: object"
      ]
     },
     "execution_count": 95,
     "metadata": {},
     "output_type": "execute_result"
    }
   ],
   "source": [
    "df.dtypes"
   ]
  },
  {
   "cell_type": "code",
   "execution_count": null,
   "metadata": {
    "colab": {
     "base_uri": "https://localhost:8080/",
     "height": 508
    },
    "id": "gKGvQjdVIA-r",
    "outputId": "54379528-a624-4fb1-ac2a-fd2ca15a3308"
   },
   "outputs": [
    {
     "data": {
      "text/plain": [
       "([<matplotlib.patches.Wedge at 0x7bbab36964d0>,\n",
       "  <matplotlib.patches.Wedge at 0x7bbab36979d0>],\n",
       " [Text(-0.3505031105476645, -1.0426636895453931, 'Male'),\n",
       "  Text(0.35050318376357886, 1.0426636649330383, 'Female')],\n",
       " [Text(-0.19118351484418059, -0.5687256488429416, '89.7%'),\n",
       "  Text(0.1911835547801339, 0.5687256354180208, '10.3%')])"
      ]
     },
     "execution_count": 96,
     "metadata": {},
     "output_type": "execute_result"
    },
    {
     "data": {
      "image/png": "[encoded data removed]",
      "text/plain": [
       "<Figure size 640x480 with 1 Axes>"
      ]
     },
     "metadata": {},
     "output_type": "display_data"
    }
   ],
   "source": [
    "#for loop to check total count of male and female in data\n",
    "male = 0\n",
    "female = 0\n",
    "for index, row in df.iterrows():\n",
    "    if row['Gender'] == 1:\n",
    "        male += 1\n",
    "    else:\n",
    "        female += 1\n",
    "\n",
    "#creating piechart\n",
    "size = [male, female]\n",
    "labels = ['Male', 'Female']\n",
    "colors = ['skyblue', 'lightcoral']\n",
    "\n",
    "plt.pie(size, labels=labels, colors=colors, autopct='%1.1f%%', startangle=90)\n"
   ]
  },
  {
   "cell_type": "markdown",
   "metadata": {
    "id": "OU2IkIEXIbnE"
   },
   "source": [
    "##Possible sources of Bias\n",
    "\n",
    "\n",
    "*   The sample size is 155, which means that the data is not representative of the larger population, and any conclusions drawn from this data cannot be generalized.\n",
    "*   We can infer from the above chart that the data is significantly biased against female gender. There are more male in our data compared to female, which will eventually lead to biased results and analysis.\n",
    "\n"
   ]
  },
  {
   "cell_type": "markdown",
   "metadata": {
    "id": "xmsa7p10U2h8"
   },
   "source": [
    "##Visualizations"
   ]
  },
  {
   "cell_type": "code",
   "execution_count": null,
   "metadata": {
    "id": "grsM-Me_Sy4B"
   },
   "outputs": [],
   "source": [
    "#creating bins and labels for alkaline phosphate values\n",
    "alk_bins = [0,50,100,150,200,250,300]\n",
    "alk_labels = ['0-50', '50-100', '100-150','150-200','200-250','250-300']\n",
    "\n",
    "#Create a new column 'Alk Group' based on the alk_bins created\n",
    "df['Alk Group'] = pd.cut(df['Alkaline Phosphate'], bins=alk_bins, labels=alk_labels)\n",
    "grouped1 = df.groupby(['Bulged liver', 'Alk Group']).size().unstack(fill_value=0)"
   ]
  },
  {
   "cell_type": "code",
   "execution_count": null,
   "metadata": {
    "colab": {
     "base_uri": "https://localhost:8080/",
     "height": 173
    },
    "id": "HcZqkhC50X2f",
    "outputId": "7fb4d5c5-87ac-4b00-b55f-411d254cfa9c"
   },
   "outputs": [
    {
     "data": {
      "text/html": [
       "\n",
       "  <div id=\"df-a6a05a2c-7e46-4735-af3e-e6b34cfb1892\" class=\"colab-df-container\">\n",
       "    <div>\n",
       "<style scoped>\n",
       "    .dataframe tbody tr th:only-of-type {\n",
       "        vertical-align: middle;\n",
       "    }\n",
       "\n",
       "    .dataframe tbody tr th {\n",
       "        vertical-align: top;\n",
       "    }\n",
       "\n",
       "    .dataframe thead th {\n",
       "        text-align: right;\n",
       "    }\n",
       "</style>\n",
       "<table border=\"1\" class=\"dataframe\">\n",
       "  <thead>\n",
       "    <tr style=\"text-align: right;\">\n",
       "      <th>Alk Group</th>\n",
       "      <th>0-50</th>\n",
       "      <th>50-100</th>\n",
       "      <th>100-150</th>\n",
       "      <th>150-200</th>\n",
       "      <th>200-250</th>\n",
       "      <th>250-300</th>\n",
       "    </tr>\n",
       "    <tr>\n",
       "      <th>Bulged liver</th>\n",
       "      <th></th>\n",
       "      <th></th>\n",
       "      <th></th>\n",
       "      <th></th>\n",
       "      <th></th>\n",
       "      <th></th>\n",
       "    </tr>\n",
       "  </thead>\n",
       "  <tbody>\n",
       "    <tr>\n",
       "      <th>0</th>\n",
       "      <td>0</td>\n",
       "      <td>2</td>\n",
       "      <td>3</td>\n",
       "      <td>0</td>\n",
       "      <td>0</td>\n",
       "      <td>0</td>\n",
       "    </tr>\n",
       "    <tr>\n",
       "      <th>1</th>\n",
       "      <td>1</td>\n",
       "      <td>11</td>\n",
       "      <td>5</td>\n",
       "      <td>4</td>\n",
       "      <td>1</td>\n",
       "      <td>1</td>\n",
       "    </tr>\n",
       "    <tr>\n",
       "      <th>2</th>\n",
       "      <td>9</td>\n",
       "      <td>54</td>\n",
       "      <td>19</td>\n",
       "      <td>11</td>\n",
       "      <td>3</td>\n",
       "      <td>2</td>\n",
       "    </tr>\n",
       "  </tbody>\n",
       "</table>\n",
       "</div>\n",
       "    <div class=\"colab-df-buttons\">\n",
       "\n",
       "  <div class=\"colab-df-container\">\n",
       "    <button class=\"colab-df-convert\" onclick=\"convertToInteractive('df-a6a05a2c-7e46-4735-af3e-e6b34cfb1892')\"\n",
       "            title=\"Convert this dataframe to an interactive table.\"\n",
       "            style=\"display:none;\">\n",
       "\n",
       "  <svg xmlns=\"http://www.w3.org/2000/svg\" height=\"24px\" viewBox=\"0 -960 960 960\">\n",
       "    <path d=\"M120-120v-720h720v720H120Zm60-500h600v-160H180v160Zm220 220h160v-160H400v160Zm0 220h160v-160H400v160ZM180-400h160v-160H180v160Zm440 0h160v-160H620v160ZM180-180h160v-160H180v160Zm440 0h160v-160H620v160Z\"/>\n",
       "  </svg>\n",
       "    </button>\n",
       "\n",
       "  <style>\n",
       "    .colab-df-container {\n",
       "      display:flex;\n",
       "      gap: 12px;\n",
       "    }\n",
       "\n",
       "    .colab-df-convert {\n",
       "      background-color: #E8F0FE;\n",
       "      border: none;\n",
       "      border-radius: 50%;\n",
       "      cursor: pointer;\n",
       "      display: none;\n",
       "      fill: #1967D2;\n",
       "      height: 32px;\n",
       "      padding: 0 0 0 0;\n",
       "      width: 32px;\n",
       "    }\n",
       "\n",
       "    .colab-df-convert:hover {\n",
       "      background-color: #E2EBFA;\n",
       "      box-shadow: 0px 1px 2px rgba(60, 64, 67, 0.3), 0px 1px 3px 1px rgba(60, 64, 67, 0.15);\n",
       "      fill: #174EA6;\n",
       "    }\n",
       "\n",
       "    .colab-df-buttons div {\n",
       "      margin-bottom: 4px;\n",
       "    }\n",
       "\n",
       "    [theme=dark] .colab-df-convert {\n",
       "      background-color: #3B4455;\n",
       "      fill: #D2E3FC;\n",
       "    }\n",
       "\n",
       "    [theme=dark] .colab-df-convert:hover {\n",
       "      background-color: #434B5C;\n",
       "      box-shadow: 0px 1px 3px 1px rgba(0, 0, 0, 0.15);\n",
       "      filter: drop-shadow(0px 1px 2px rgba(0, 0, 0, 0.3));\n",
       "      fill: #FFFFFF;\n",
       "    }\n",
       "  </style>\n",
       "\n",
       "    <script>\n",
       "      const buttonEl =\n",
       "        document.querySelector('#df-a6a05a2c-7e46-4735-af3e-e6b34cfb1892 button.colab-df-convert');\n",
       "      buttonEl.style.display =\n",
       "        google.colab.kernel.accessAllowed ? 'block' : 'none';\n",
       "\n",
       "      async function convertToInteractive(key) {\n",
       "        const element = document.querySelector('#df-a6a05a2c-7e46-4735-af3e-e6b34cfb1892');\n",
       "        const dataTable =\n",
       "          await google.colab.kernel.invokeFunction('convertToInteractive',\n",
       "                                                    [key], {});\n",
       "        if (!dataTable) return;\n",
       "\n",
       "        const docLinkHtml = 'Like what you see? Visit the ' +\n",
       "          '<a target=\"_blank\" href=https://colab.research.google.com/notebooks/data_table.ipynb>data table notebook</a>'\n",
       "          + ' to learn more about interactive tables.';\n",
       "        element.innerHTML = '';\n",
       "        dataTable['output_type'] = 'display_data';\n",
       "        await google.colab.output.renderOutput(dataTable, element);\n",
       "        const docLink = document.createElement('div');\n",
       "        docLink.innerHTML = docLinkHtml;\n",
       "        element.appendChild(docLink);\n",
       "      }\n",
       "    </script>\n",
       "  </div>\n",
       "\n",
       "\n",
       "<div id=\"df-7c1cc2f4-54f2-46e8-b31e-8e42a5ca9b7e\">\n",
       "  <button class=\"colab-df-quickchart\" onclick=\"quickchart('df-7c1cc2f4-54f2-46e8-b31e-8e42a5ca9b7e')\"\n",
       "            title=\"Suggest charts.\"\n",
       "            style=\"display:none;\">\n",
       "\n",
       "<svg xmlns=\"http://www.w3.org/2000/svg\" height=\"24px\"viewBox=\"0 0 24 24\"\n",
       "     width=\"24px\">\n",
       "    <g>\n",
       "        <path d=\"M19 3H5c-1.1 0-2 .9-2 2v14c0 1.1.9 2 2 2h14c1.1 0 2-.9 2-2V5c0-1.1-.9-2-2-2zM9 17H7v-7h2v7zm4 0h-2V7h2v10zm4 0h-2v-4h2v4z\"/>\n",
       "    </g>\n",
       "</svg>\n",
       "  </button>\n",
       "\n",
       "<style>\n",
       "  .colab-df-quickchart {\n",
       "      --bg-color: #E8F0FE;\n",
       "      --fill-color: #1967D2;\n",
       "      --hover-bg-color: #E2EBFA;\n",
       "      --hover-fill-color: #174EA6;\n",
       "      --disabled-fill-color: #AAA;\n",
       "      --disabled-bg-color: #DDD;\n",
       "  }\n",
       "\n",
       "  [theme=dark] .colab-df-quickchart {\n",
       "      --bg-color: #3B4455;\n",
       "      --fill-color: #D2E3FC;\n",
       "      --hover-bg-color: #434B5C;\n",
       "      --hover-fill-color: #FFFFFF;\n",
       "      --disabled-bg-color: #3B4455;\n",
       "      --disabled-fill-color: #666;\n",
       "  }\n",
       "\n",
       "  .colab-df-quickchart {\n",
       "    background-color: var(--bg-color);\n",
       "    border: none;\n",
       "    border-radius: 50%;\n",
       "    cursor: pointer;\n",
       "    display: none;\n",
       "    fill: var(--fill-color);\n",
       "    height: 32px;\n",
       "    padding: 0;\n",
       "    width: 32px;\n",
       "  }\n",
       "\n",
       "  .colab-df-quickchart:hover {\n",
       "    background-color: var(--hover-bg-color);\n",
       "    box-shadow: 0 1px 2px rgba(60, 64, 67, 0.3), 0 1px 3px 1px rgba(60, 64, 67, 0.15);\n",
       "    fill: var(--button-hover-fill-color);\n",
       "  }\n",
       "\n",
       "  .colab-df-quickchart-complete:disabled,\n",
       "  .colab-df-quickchart-complete:disabled:hover {\n",
       "    background-color: var(--disabled-bg-color);\n",
       "    fill: var(--disabled-fill-color);\n",
       "    box-shadow: none;\n",
       "  }\n",
       "\n",
       "  .colab-df-spinner {\n",
       "    border: 2px solid var(--fill-color);\n",
       "    border-color: transparent;\n",
       "    border-bottom-color: var(--fill-color);\n",
       "    animation:\n",
       "      spin 1s steps(1) infinite;\n",
       "  }\n",
       "\n",
       "  @keyframes spin {\n",
       "    0% {\n",
       "      border-color: transparent;\n",
       "      border-bottom-color: var(--fill-color);\n",
       "      border-left-color: var(--fill-color);\n",
       "    }\n",
       "    20% {\n",
       "      border-color: transparent;\n",
       "      border-left-color: var(--fill-color);\n",
       "      border-top-color: var(--fill-color);\n",
       "    }\n",
       "    30% {\n",
       "      border-color: transparent;\n",
       "      border-left-color: var(--fill-color);\n",
       "      border-top-color: var(--fill-color);\n",
       "      border-right-color: var(--fill-color);\n",
       "    }\n",
       "    40% {\n",
       "      border-color: transparent;\n",
       "      border-right-color: var(--fill-color);\n",
       "      border-top-color: var(--fill-color);\n",
       "    }\n",
       "    60% {\n",
       "      border-color: transparent;\n",
       "      border-right-color: var(--fill-color);\n",
       "    }\n",
       "    80% {\n",
       "      border-color: transparent;\n",
       "      border-right-color: var(--fill-color);\n",
       "      border-bottom-color: var(--fill-color);\n",
       "    }\n",
       "    90% {\n",
       "      border-color: transparent;\n",
       "      border-bottom-color: var(--fill-color);\n",
       "    }\n",
       "  }\n",
       "</style>\n",
       "\n",
       "  <script>\n",
       "    async function quickchart(key) {\n",
       "      const quickchartButtonEl =\n",
       "        document.querySelector('#' + key + ' button');\n",
       "      quickchartButtonEl.disabled = true;  // To prevent multiple clicks.\n",
       "      quickchartButtonEl.classList.add('colab-df-spinner');\n",
       "      try {\n",
       "        const charts = await google.colab.kernel.invokeFunction(\n",
       "            'suggestCharts', [key], {});\n",
       "      } catch (error) {\n",
       "        console.error('Error during call to suggestCharts:', error);\n",
       "      }\n",
       "      quickchartButtonEl.classList.remove('colab-df-spinner');\n",
       "      quickchartButtonEl.classList.add('colab-df-quickchart-complete');\n",
       "    }\n",
       "    (() => {\n",
       "      let quickchartButtonEl =\n",
       "        document.querySelector('#df-7c1cc2f4-54f2-46e8-b31e-8e42a5ca9b7e button');\n",
       "      quickchartButtonEl.style.display =\n",
       "        google.colab.kernel.accessAllowed ? 'block' : 'none';\n",
       "    })();\n",
       "  </script>\n",
       "</div>\n",
       "    </div>\n",
       "  </div>\n"
      ],
      "text/plain": [
       "Alk Group     0-50  50-100  100-150  150-200  200-250  250-300\n",
       "Bulged liver                                                  \n",
       "0                0       2        3        0        0        0\n",
       "1                1      11        5        4        1        1\n",
       "2                9      54       19       11        3        2"
      ]
     },
     "execution_count": 98,
     "metadata": {},
     "output_type": "execute_result"
    }
   ],
   "source": [
    "grouped1"
   ]
  },
  {
   "cell_type": "code",
   "execution_count": null,
   "metadata": {
    "colab": {
     "base_uri": "https://localhost:8080/",
     "height": 484
    },
    "id": "2h5zSQORTn5F",
    "outputId": "2f99c36b-9c99-4868-b48f-b36953a54ba1"
   },
   "outputs": [
    {
     "data": {
      "text/plain": [
       "<matplotlib.legend.Legend at 0x7bbab3696530>"
      ]
     },
     "execution_count": 99,
     "metadata": {},
     "output_type": "execute_result"
    },
    {
     "data": {
      "image/png": "[encoded data removed]",
      "text/plain": [
       "<Figure size 640x480 with 1 Axes>"
      ]
     },
     "metadata": {},
     "output_type": "display_data"
    }
   ],
   "source": [
    "#bar plot\n",
    "grouped1.plot(kind='bar', stacked=False)\n",
    "plt.title('Effect of Alkaline Phosphate levels on liver')\n",
    "plt.xlabel('Bulged Liver Present')\n",
    "plt.ylabel('Count')\n",
    "plt.legend()"
   ]
  },
  {
   "cell_type": "markdown",
   "metadata": {
    "id": "jWVy9ciTLfkM"
   },
   "source": [
    "In the first visualization of our data, we try to observe if phosphate levels effected the occurence of bulged liver. The bar graph shows that many people who suffered from hepatitis and had alkaline phosphate levels between 50-150, had a bulged liver condition."
   ]
  },
  {
   "cell_type": "code",
   "execution_count": null,
   "metadata": {
    "id": "bXmEktwUWU-H"
   },
   "outputs": [],
   "source": [
    "grouped2 = df.groupby(['Bilirubin','Class']).size().unstack(fill_value=0)"
   ]
  },
  {
   "cell_type": "code",
   "execution_count": null,
   "metadata": {
    "colab": {
     "base_uri": "https://localhost:8080/",
     "height": 489
    },
    "id": "3-dAyx7mX07L",
    "outputId": "d7e2ee7a-c445-4bf1-f55f-b63ffaf9f0fe"
   },
   "outputs": [
    {
     "data": {
      "text/plain": [
       "Text(0, 0.5, 'Count')"
      ]
     },
     "execution_count": 101,
     "metadata": {},
     "output_type": "execute_result"
    },
    {
     "data": {
      "image/png": "[encoded data removed]",
      "text/plain": [
       "<Figure size 640x480 with 1 Axes>"
      ]
     },
     "metadata": {},
     "output_type": "display_data"
    }
   ],
   "source": [
    "#line plot of effect on bilirubin on mortality rate\n",
    "grouped2.plot(kind='line', stacked=False)\n",
    "plt.title('Effect of Bilirubin on Mortality Rate')\n",
    "plt.xlabel('Bilirubin Levels')\n",
    "plt.ylabel('Count')"
   ]
  },
  {
   "cell_type": "markdown",
   "metadata": {
    "id": "qNbRmQznS1yz"
   },
   "source": [
    "Bilirubin levels are one of the significant indicators of livers' health. The level of bilirubin for a healthy liver is from 0.1-1.2, any other level could lead to complications . When we think of a hepatitis patients bilirubin levels, it would fall in the abnormal region which is generally higher than 1.2. But when we look at our line plot we see that a lot of hepatitis patients who had a normal bilirubin level were deceased."
   ]
  },
  {
   "cell_type": "code",
   "execution_count": null,
   "metadata": {
    "colab": {
     "base_uri": "https://localhost:8080/",
     "height": 466
    },
    "id": "d4ctejQevWYG",
    "outputId": "1e064cfe-1e02-4032-c674-4bd4aa2406c0"
   },
   "outputs": [
    {
     "data": {
      "text/plain": [
       "Text(0, 0.5, 'Count')"
      ]
     },
     "execution_count": 102,
     "metadata": {},
     "output_type": "execute_result"
    },
    {
     "data": {
      "image/png": "[encoded data removed]",
      "text/plain": [
       "<Figure size 640x480 with 1 Axes>"
      ]
     },
     "metadata": {},
     "output_type": "display_data"
    }
   ],
   "source": [
    "#line graph\n",
    "grouped3 = df.groupby(['Fatigue','Malaise','Anorexia','Class']).size().unstack(fill_value=0)\n",
    "grouped3.plot(kind='line', stacked=False)\n",
    "plt.xlabel('Presence of Fatigue, Malaise and Anorexia')\n",
    "plt.ylabel('Count')"
   ]
  },
  {
   "cell_type": "markdown",
   "metadata": {
    "id": "6h1OL4p8S_l5"
   },
   "source": [
    "This particular visualization shows the symptoms people who suffered with hepatitis had and the mortality status of the patients. We can see that there is a significant rise in deaths when patients had all 3 symptoms - Fatigue, Malaise, Anorexia."
   ]
  },
  {
   "cell_type": "markdown",
   "metadata": {
    "id": "bYEgJz8RTZIq"
   },
   "source": [
    "##Data Analysis\n",
    "\n",
    "Let's do an analysis about the medical conditions that hepatitis patients had and their relation with histology test and mortality status.\n"
   ]
  },
  {
   "cell_type": "code",
   "execution_count": null,
   "metadata": {
    "id": "HI5MLtX12m0N"
   },
   "outputs": [],
   "source": [
    "#Creating bins and labels for the albumin levels\n",
    "alb_bins = [0,1,2,3,4,5,6,7]\n",
    "alb_labels = ['0-1', '1-2', '2-3','3-4','4-5','5-6','6-7']\n",
    "\n",
    "# Create a new column 'Alb Group' based on the alb_bins created\n",
    "df['Alb Group'] = pd.cut(df['Albumin'], bins=alb_bins, labels=alb_labels)\n"
   ]
  },
  {
   "cell_type": "code",
   "execution_count": null,
   "metadata": {
    "colab": {
     "base_uri": "https://localhost:8080/",
     "height": 530
    },
    "id": "qWxntc5o4fu6",
    "outputId": "e383aad4-8371-4c5c-dfdf-5acb99c64394"
   },
   "outputs": [
    {
     "data": {
      "text/plain": [
       "Text(0.5, 1.0, 'Comparison of presence of Bulged Liver, Ascites and Varices with Histology')"
      ]
     },
     "execution_count": 104,
     "metadata": {},
     "output_type": "execute_result"
    },
    {
     "data": {
      "image/png": "[encoded data removed]",
      "text/plain": [
       "<Figure size 640x480 with 1 Axes>"
      ]
     },
     "metadata": {},
     "output_type": "display_data"
    }
   ],
   "source": [
    "grouped4 = df.groupby(['Bulged liver','Ascitis','Varices','Histology']).size().unstack(fill_value=0)\n",
    "grouped4.plot(kind='bar', stacked=False)\n",
    "plt.xlabel('Presence of Bulged Liver, Ascites and Varices')\n",
    "plt.ylabel('Count')\n",
    "plt.title('Comparison of presence of Bulged Liver, Ascites and Varices with Histology')"
   ]
  },
  {
   "cell_type": "code",
   "execution_count": null,
   "metadata": {
    "colab": {
     "base_uri": "https://localhost:8080/",
     "height": 489
    },
    "id": "vMOBLbAw5vzr",
    "outputId": "65be7d87-cd0c-498b-bda7-dc20a2f3ddec"
   },
   "outputs": [
    {
     "data": {
      "text/plain": [
       "Text(0.5, 1.0, 'Comparison of presence of bulged liver, ascites and varices with mortality')"
      ]
     },
     "execution_count": 105,
     "metadata": {},
     "output_type": "execute_result"
    },
    {
     "data": {
      "image/png": "[encoded data removed]",
      "text/plain": [
       "<Figure size 640x480 with 1 Axes>"
      ]
     },
     "metadata": {},
     "output_type": "display_data"
    }
   ],
   "source": [
    "grouped5 = df.groupby(['Bulged liver','Ascitis','Varices','Class']).size().unstack(fill_value=0)\n",
    "grouped5.plot(kind='line', stacked=False)\n",
    "plt.xlabel('Presence of Bulged Liver, Ascites and Varices')\n",
    "plt.ylabel('Count')\n",
    "plt.title('Comparison of presence of bulged liver, ascites and varices with mortality')"
   ]
  },
  {
   "cell_type": "markdown",
   "metadata": {
    "id": "KdS8tBqbT2ly"
   },
   "source": [
    "We can infer from the bar plot that people who suffered with varices ( a condition where blood vessels expand in the esophagus) had to take the histology test and had a higher death rate when compared to people who had ascites ( a condition in which fluid collects in spaces within ones abdomen)."
   ]
  },
  {
   "cell_type": "markdown",
   "metadata": {
    "id": "hf-CpcJ2VDo8"
   },
   "source": [
    "##Conclusion\n",
    "\n",
    "\n",
    "\n",
    "*   The effect of bilirubin levels on mortality rate was negligible\n",
    "*   Subjects who suffered from anorexia, an eating disorder, malaise, and fatigue had a lower chance of survival\n",
    "*   Survival rate of subjects who have prominent medical conditions like bulged liver, ascites and varices, is significantly decreased\n",
    "\n",
    "\n",
    "\n",
    "Visualizing small sample sizes can be informative but comes with limitations. Small datasets may not be representative of the larger population, leading to challenges in generalizability. Increased variability can make it harder to discern trends, and statistical significance tests may have reduced power or inapplicability.\n",
    "\n",
    "\n",
    "\n"
   ]
  }
 ],
 "metadata": {
  "colab": {
   "provenance": []
  },
  "kernelspec": {
   "display_name": "Python 3 (ipykernel)",
   "language": "python",
   "name": "python3"
  },
  "language_info": {
   "codemirror_mode": {
    "name": "ipython",
    "version": 3
   },
   "file_extension": ".py",
   "mimetype": "text/x-python",
   "name": "python",
   "nbconvert_exporter": "python",
   "pygments_lexer": "ipython3",
   "version": "3.11.4"
  }
 },
 "nbformat": 4,
 "nbformat_minor": 1
}
